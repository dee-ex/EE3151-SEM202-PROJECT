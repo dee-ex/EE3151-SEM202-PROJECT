{
  "nbformat": 4,
  "nbformat_minor": 0,
  "metadata": {
    "colab": {
      "name": "Untitled10.ipynb",
      "provenance": [],
      "collapsed_sections": []
    },
    "kernelspec": {
      "name": "python3",
      "display_name": "Python 3"
    },
    "language_info": {
      "name": "python"
    },
    "accelerator": "GPU"
  },
  "cells": [
    {
      "cell_type": "code",
      "metadata": {
        "colab": {
          "base_uri": "https://localhost:8080/"
        },
        "id": "v45jdmFBwrqE",
        "outputId": "dc2625f2-c9c8-485b-a3e5-50c0728c49f9"
      },
      "source": [
        "!pip install fastai --upgrade"
      ],
      "execution_count": null,
      "outputs": [
        {
          "output_type": "stream",
          "text": [
            "Requirement already up-to-date: fastai in /usr/local/lib/python3.7/dist-packages (2.4)\n",
            "Requirement already satisfied, skipping upgrade: pillow>6.0.0 in /usr/local/lib/python3.7/dist-packages (from fastai) (7.1.2)\n",
            "Requirement already satisfied, skipping upgrade: pip in /usr/local/lib/python3.7/dist-packages (from fastai) (19.3.1)\n",
            "Requirement already satisfied, skipping upgrade: pyyaml in /usr/local/lib/python3.7/dist-packages (from fastai) (3.13)\n",
            "Requirement already satisfied, skipping upgrade: scikit-learn in /usr/local/lib/python3.7/dist-packages (from fastai) (0.22.2.post1)\n",
            "Requirement already satisfied, skipping upgrade: pandas in /usr/local/lib/python3.7/dist-packages (from fastai) (1.1.5)\n",
            "Requirement already satisfied, skipping upgrade: packaging in /usr/local/lib/python3.7/dist-packages (from fastai) (20.9)\n",
            "Requirement already satisfied, skipping upgrade: scipy in /usr/local/lib/python3.7/dist-packages (from fastai) (1.4.1)\n",
            "Requirement already satisfied, skipping upgrade: torch<1.10,>=1.7.0 in /usr/local/lib/python3.7/dist-packages (from fastai) (1.9.0+cu102)\n",
            "Requirement already satisfied, skipping upgrade: torchvision>=0.8.2 in /usr/local/lib/python3.7/dist-packages (from fastai) (0.10.0+cu102)\n",
            "Requirement already satisfied, skipping upgrade: requests in /usr/local/lib/python3.7/dist-packages (from fastai) (2.23.0)\n",
            "Requirement already satisfied, skipping upgrade: fastprogress>=0.2.4 in /usr/local/lib/python3.7/dist-packages (from fastai) (1.0.0)\n",
            "Requirement already satisfied, skipping upgrade: spacy<4 in /usr/local/lib/python3.7/dist-packages (from fastai) (2.2.4)\n",
            "Requirement already satisfied, skipping upgrade: fastcore<1.4,>=1.3.8 in /usr/local/lib/python3.7/dist-packages (from fastai) (1.3.20)\n",
            "Requirement already satisfied, skipping upgrade: matplotlib in /usr/local/lib/python3.7/dist-packages (from fastai) (3.2.2)\n",
            "Requirement already satisfied, skipping upgrade: numpy>=1.11.0 in /usr/local/lib/python3.7/dist-packages (from scikit-learn->fastai) (1.19.5)\n",
            "Requirement already satisfied, skipping upgrade: joblib>=0.11 in /usr/local/lib/python3.7/dist-packages (from scikit-learn->fastai) (1.0.1)\n",
            "Requirement already satisfied, skipping upgrade: python-dateutil>=2.7.3 in /usr/local/lib/python3.7/dist-packages (from pandas->fastai) (2.8.1)\n",
            "Requirement already satisfied, skipping upgrade: pytz>=2017.2 in /usr/local/lib/python3.7/dist-packages (from pandas->fastai) (2018.9)\n",
            "Requirement already satisfied, skipping upgrade: pyparsing>=2.0.2 in /usr/local/lib/python3.7/dist-packages (from packaging->fastai) (2.4.7)\n",
            "Requirement already satisfied, skipping upgrade: typing-extensions in /usr/local/lib/python3.7/dist-packages (from torch<1.10,>=1.7.0->fastai) (3.7.4.3)\n",
            "Requirement already satisfied, skipping upgrade: certifi>=2017.4.17 in /usr/local/lib/python3.7/dist-packages (from requests->fastai) (2021.5.30)\n",
            "Requirement already satisfied, skipping upgrade: urllib3!=1.25.0,!=1.25.1,<1.26,>=1.21.1 in /usr/local/lib/python3.7/dist-packages (from requests->fastai) (1.24.3)\n",
            "Requirement already satisfied, skipping upgrade: idna<3,>=2.5 in /usr/local/lib/python3.7/dist-packages (from requests->fastai) (2.10)\n",
            "Requirement already satisfied, skipping upgrade: chardet<4,>=3.0.2 in /usr/local/lib/python3.7/dist-packages (from requests->fastai) (3.0.4)\n",
            "Requirement already satisfied, skipping upgrade: srsly<1.1.0,>=1.0.2 in /usr/local/lib/python3.7/dist-packages (from spacy<4->fastai) (1.0.5)\n",
            "Requirement already satisfied, skipping upgrade: plac<1.2.0,>=0.9.6 in /usr/local/lib/python3.7/dist-packages (from spacy<4->fastai) (1.1.3)\n",
            "Requirement already satisfied, skipping upgrade: setuptools in /usr/local/lib/python3.7/dist-packages (from spacy<4->fastai) (57.0.0)\n",
            "Requirement already satisfied, skipping upgrade: cymem<2.1.0,>=2.0.2 in /usr/local/lib/python3.7/dist-packages (from spacy<4->fastai) (2.0.5)\n",
            "Requirement already satisfied, skipping upgrade: murmurhash<1.1.0,>=0.28.0 in /usr/local/lib/python3.7/dist-packages (from spacy<4->fastai) (1.0.5)\n",
            "Requirement already satisfied, skipping upgrade: tqdm<5.0.0,>=4.38.0 in /usr/local/lib/python3.7/dist-packages (from spacy<4->fastai) (4.41.1)\n",
            "Requirement already satisfied, skipping upgrade: preshed<3.1.0,>=3.0.2 in /usr/local/lib/python3.7/dist-packages (from spacy<4->fastai) (3.0.5)\n",
            "Requirement already satisfied, skipping upgrade: thinc==7.4.0 in /usr/local/lib/python3.7/dist-packages (from spacy<4->fastai) (7.4.0)\n",
            "Requirement already satisfied, skipping upgrade: catalogue<1.1.0,>=0.0.7 in /usr/local/lib/python3.7/dist-packages (from spacy<4->fastai) (1.0.0)\n",
            "Requirement already satisfied, skipping upgrade: blis<0.5.0,>=0.4.0 in /usr/local/lib/python3.7/dist-packages (from spacy<4->fastai) (0.4.1)\n",
            "Requirement already satisfied, skipping upgrade: wasabi<1.1.0,>=0.4.0 in /usr/local/lib/python3.7/dist-packages (from spacy<4->fastai) (0.8.2)\n",
            "Requirement already satisfied, skipping upgrade: kiwisolver>=1.0.1 in /usr/local/lib/python3.7/dist-packages (from matplotlib->fastai) (1.3.1)\n",
            "Requirement already satisfied, skipping upgrade: cycler>=0.10 in /usr/local/lib/python3.7/dist-packages (from matplotlib->fastai) (0.10.0)\n",
            "Requirement already satisfied, skipping upgrade: six>=1.5 in /usr/local/lib/python3.7/dist-packages (from python-dateutil>=2.7.3->pandas->fastai) (1.15.0)\n",
            "Requirement already satisfied, skipping upgrade: importlib-metadata>=0.20; python_version < \"3.8\" in /usr/local/lib/python3.7/dist-packages (from catalogue<1.1.0,>=0.0.7->spacy<4->fastai) (4.5.0)\n",
            "Requirement already satisfied, skipping upgrade: zipp>=0.5 in /usr/local/lib/python3.7/dist-packages (from importlib-metadata>=0.20; python_version < \"3.8\"->catalogue<1.1.0,>=0.0.7->spacy<4->fastai) (3.4.1)\n"
          ],
          "name": "stdout"
        }
      ]
    },
    {
      "cell_type": "code",
      "metadata": {
        "colab": {
          "base_uri": "https://localhost:8080/"
        },
        "id": "7BgZFr_9wwM4",
        "outputId": "9de2bc89-f42d-43bb-dcfe-77ad930f1134"
      },
      "source": [
        "!unzip drive/MyDrive/f.zip"
      ],
      "execution_count": null,
      "outputs": [
        {
          "output_type": "stream",
          "text": [
            "Archive:  drive/MyDrive/f.zip\n",
            "replace 17_G_1623593016.2441733.pt? [y]es, [n]o, [A]ll, [N]one, [r]ename: a\n",
            "error:  invalid response [a]\n",
            "replace 17_G_1623593016.2441733.pt? [y]es, [n]o, [A]ll, [N]one, [r]ename: A\n",
            "  inflating: 17_G_1623593016.2441733.pt  \n",
            "  inflating: 11_G_1623586219.6545973.pt  \n",
            "  inflating: 13_G_1623588456.3293748.pt  \n",
            "  inflating: 18_G_1623594149.417595.pt  \n",
            "  inflating: 14_G_1623589595.1418877.pt  \n",
            "  inflating: 15_G_1623590736.230504.pt  \n",
            "  inflating: 19_G_1623595289.1398213.pt  \n",
            "  inflating: 10_G_1623585157.7964432.pt  \n",
            "  inflating: 9_G_1623584122.1996632.pt  \n",
            "  inflating: 12_G_1623587323.4433503.pt  \n",
            "  inflating: 16_G_1623591874.1691759.pt  \n"
          ],
          "name": "stdout"
        }
      ]
    },
    {
      "cell_type": "code",
      "metadata": {
        "colab": {
          "base_uri": "https://localhost:8080/"
        },
        "id": "SAOYb4Z7wxWv",
        "outputId": "6d7a2524-9002-44fe-ee31-f71f3aea60aa"
      },
      "source": [
        "!unzip drive/MyDrive/models.zip"
      ],
      "execution_count": null,
      "outputs": [
        {
          "output_type": "stream",
          "text": [
            "Archive:  drive/MyDrive/models.zip\n",
            "replace models/19_D_1620024060.7773879.pt? [y]es, [n]o, [A]ll, [N]one, [r]ename: A\n",
            "  inflating: models/19_D_1620024060.7773879.pt  \n",
            "  inflating: models/19_G_1620024060.8170185.pt  \n",
            "  inflating: models/18_D_1620023445.871576.pt  \n",
            "  inflating: models/17_D_1620022844.0652235.pt  \n",
            "  inflating: models/18_G_1620023445.9103527.pt  \n",
            "  inflating: models/17_G_1620022844.1141694.pt  \n",
            "  inflating: models/16_D_1620022253.2658226.pt  \n",
            "  inflating: models/15_D_1620021671.2213771.pt  \n",
            "  inflating: models/14_D_1620021100.2137222.pt  \n",
            "  inflating: models/13_D_1620020532.8641236.pt  \n",
            "  inflating: models/15_G_1620021671.2555697.pt  \n",
            "  inflating: models/13_G_1620020532.8982918.pt  \n",
            "  inflating: models/12_G_1620019965.689112.pt  \n",
            "  inflating: models/11_D_1620019397.9907248.pt  \n",
            "  inflating: models/10_D_1620018831.0869498.pt  \n",
            "  inflating: models/11_G_1620019398.0249395.pt  \n",
            "  inflating: models/9_D_1620018264.0648942.pt  \n",
            "  inflating: models/8_D_1620017697.3197768.pt  \n",
            "  inflating: models/10_G_1620018831.1228747.pt  \n",
            "  inflating: models/7_D_1620017132.3219323.pt  \n",
            "  inflating: models/7_G_1620017132.3629236.pt  \n",
            "  inflating: models/12_D_1620019965.6468968.pt  \n",
            "  inflating: models/8_G_1620017697.3573813.pt  \n",
            "  inflating: models/16_G_1620022253.3028731.pt  \n",
            "  inflating: models/6_G_1620016567.5432076.pt  \n",
            "  inflating: models/14_G_1620021100.248362.pt  \n",
            "  inflating: models/5_D_1620016004.1742268.pt  \n",
            "  inflating: models/4_D_1620015442.0914266.pt  \n",
            "  inflating: models/3_D_1620014882.7111835.pt  \n",
            "  inflating: models/3_G_1620014882.74522.pt  \n",
            "  inflating: models/5_G_1620016004.2099185.pt  \n",
            "  inflating: models/1_D_1620013766.0102792.pt  \n",
            "  inflating: models/4_G_1620015442.1337757.pt  \n",
            "  inflating: models/0_D_1620013208.3076224.pt  \n",
            "  inflating: models/2_D_1620014324.077107.pt  \n",
            "  inflating: models/6_D_1620016567.502744.pt  \n"
          ],
          "name": "stdout"
        }
      ]
    },
    {
      "cell_type": "code",
      "metadata": {
        "id": "AyxfNxagwzVZ"
      },
      "source": [
        "import numpy as np\n",
        "import matplotlib.pyplot as plt\n",
        "from PIL import Image\n",
        "\n",
        "from skimage.color import lab2rgb\n",
        "\n",
        "import torch\n",
        "from torchvision import transforms\n",
        "from torchvision.models.resnet import resnet18\n",
        "\n",
        "from fastai.vision.learner import create_body\n",
        "from fastai.vision.models.unet import DynamicUnet"
      ],
      "execution_count": null,
      "outputs": []
    },
    {
      "cell_type": "code",
      "metadata": {
        "id": "OhYa_jBww3qs"
      },
      "source": [
        "SIZE = 256\n",
        "device = torch.device(\"cuda\" if torch.cuda.is_available() else \"cpu\")\n",
        "\n",
        "def build_generator(n_inputs, n_outputs, core):\n",
        "  body = create_body(core, pretrained=True, n_in=n_inputs, cut=-2)\n",
        "\n",
        "  return DynamicUnet(body, n_outputs, (SIZE, SIZE))\n",
        "\n",
        "def lab_to_rgb(L, ab): \n",
        "    L = (L + 1.) * 50.\n",
        "    ab = ab * 110.\n",
        "    Lab = torch.cat([L, ab], dim=1).permute(0, 2, 3, 1).cpu().numpy()\n",
        "    rgb_imgs = []\n",
        "    for img in Lab:\n",
        "        img_rgb = lab2rgb(img)\n",
        "        rgb_imgs.append(img_rgb)\n",
        "    return np.stack(rgb_imgs, axis=0)"
      ],
      "execution_count": null,
      "outputs": []
    },
    {
      "cell_type": "code",
      "metadata": {
        "colab": {
          "base_uri": "https://localhost:8080/"
        },
        "id": "tI2W6fnOw5TN",
        "outputId": "cf0ce475-d476-4cb2-986f-47ce07f06232"
      },
      "source": [
        "G1 = build_generator(1, 2, resnet18).to(device)\n",
        "\n",
        "G1.load_state_dict(torch.load(\"14_G_1623589595.1418877.pt\", map_location=device))"
      ],
      "execution_count": null,
      "outputs": [
        {
          "output_type": "stream",
          "text": [
            "/usr/local/lib/python3.7/dist-packages/torch/nn/functional.py:718: UserWarning: Named tensors and all their associated APIs are an experimental feature and subject to change. Please do not use them for anything important until they are released as stable. (Triggered internally at  /pytorch/c10/core/TensorImpl.h:1156.)\n",
            "  return torch.max_pool2d(input, kernel_size, stride, padding, dilation, ceil_mode)\n"
          ],
          "name": "stderr"
        },
        {
          "output_type": "execute_result",
          "data": {
            "text/plain": [
              "<All keys matched successfully>"
            ]
          },
          "metadata": {
            "tags": []
          },
          "execution_count": 6
        }
      ]
    },
    {
      "cell_type": "code",
      "metadata": {
        "colab": {
          "base_uri": "https://localhost:8080/"
        },
        "id": "N5KnzSfGxBNZ",
        "outputId": "1c55093b-926a-417f-9e9f-40123b4c3ceb"
      },
      "source": [
        "G2 = build_generator(1, 2, resnet18).to(device)\n",
        "\n",
        "G2.load_state_dict(torch.load(\"models/14_G_1620021100.248362.pt\", map_location=device))"
      ],
      "execution_count": null,
      "outputs": [
        {
          "output_type": "execute_result",
          "data": {
            "text/plain": [
              "<All keys matched successfully>"
            ]
          },
          "metadata": {
            "tags": []
          },
          "execution_count": 7
        }
      ]
    },
    {
      "cell_type": "code",
      "metadata": {
        "colab": {
          "base_uri": "https://localhost:8080/"
        },
        "id": "s_d920t7xXaR",
        "outputId": "c771ff02-d616-4b48-8a48-4a2c8a0bed22"
      },
      "source": [
        "inputs = [Image.open(f\"./{i}.png\") for i in range(1, 5)]\n",
        "\n",
        "tensors = torch.empty(0, 1, SIZE, SIZE).to(device)\n",
        "\n",
        "for img in inputs:\n",
        "  t = (2 * (transforms.ToTensor()(img))[0] - 1).unsqueeze(0).unsqueeze(0).to(device)\n",
        "  tensors = torch.cat((tensors, t), dim=0)\n",
        "\n",
        "print(tensors.shape)"
      ],
      "execution_count": null,
      "outputs": [
        {
          "output_type": "stream",
          "text": [
            "torch.Size([4, 1, 256, 256])\n"
          ],
          "name": "stdout"
        }
      ]
    },
    {
      "cell_type": "code",
      "metadata": {
        "colab": {
          "base_uri": "https://localhost:8080/"
        },
        "id": "Tz3yD2B_yPgH",
        "outputId": "fa4d5eb4-cebc-4761-8408-209ebfb1f11d"
      },
      "source": [
        "out1 = G1(tensors)\n",
        "\n",
        "print(out1.shape)"
      ],
      "execution_count": null,
      "outputs": [
        {
          "output_type": "stream",
          "text": [
            "torch.Size([4, 2, 256, 256])\n"
          ],
          "name": "stdout"
        }
      ]
    },
    {
      "cell_type": "code",
      "metadata": {
        "colab": {
          "base_uri": "https://localhost:8080/"
        },
        "id": "kzzuAhW0yWEy",
        "outputId": "ca053bce-cd69-4eac-a9ec-3e4d99ef8fda"
      },
      "source": [
        "out2 = G2(tensors)\n",
        "\n",
        "print(out2.shape)"
      ],
      "execution_count": null,
      "outputs": [
        {
          "output_type": "stream",
          "text": [
            "torch.Size([4, 2, 256, 256])\n"
          ],
          "name": "stdout"
        }
      ]
    },
    {
      "cell_type": "code",
      "metadata": {
        "colab": {
          "base_uri": "https://localhost:8080/"
        },
        "id": "KLQ8XvTbymi5",
        "outputId": "3304ae14-e66d-4929-889d-92059df79461"
      },
      "source": [
        "from skimage.color import rgb2lab\n",
        "from torchvision import transforms\n",
        "\n",
        "labels = [Image.open(f\"./{i}.jpg\") for i in range(1, 5)]\n",
        "\n",
        "labels = [transforms.ToTensor()(rgb2lab(np.array(i)).astype(\"float32\")).to(device) for i in labels]\n",
        "\n",
        "print(labels[0].shape)"
      ],
      "execution_count": null,
      "outputs": [
        {
          "output_type": "stream",
          "text": [
            "torch.Size([3, 256, 256])\n"
          ],
          "name": "stdout"
        }
      ]
    },
    {
      "cell_type": "code",
      "metadata": {
        "colab": {
          "base_uri": "https://localhost:8080/"
        },
        "id": "x7qVLQhZ0P10",
        "outputId": "99a83123-9db7-42a0-d3a7-d1b1da34d3fc"
      },
      "source": [
        "l1 = [0, 0, 0, 0]\n",
        "\n",
        "for l in range(4):\n",
        "    for k in range(2):\n",
        "        for i in range(256):\n",
        "            for j in range(256):\n",
        "                l1[l] += (110*out1[l, k, i, j] - labels[l][k + 1, i, j])**2\n",
        "                                                     \n",
        "l1 = [l/256**2 for l in l1]\n",
        "print(l1)"
      ],
      "execution_count": null,
      "outputs": [
        {
          "output_type": "stream",
          "text": [
            "[TensorBase(481.9427, device='cuda:0', grad_fn=<AliasBackward>), TensorBase(625.9880, device='cuda:0', grad_fn=<AliasBackward>), TensorBase(748.5225, device='cuda:0', grad_fn=<AliasBackward>), TensorBase(1256.3251, device='cuda:0', grad_fn=<AliasBackward>)]\n"
          ],
          "name": "stdout"
        }
      ]
    },
    {
      "cell_type": "code",
      "metadata": {
        "colab": {
          "base_uri": "https://localhost:8080/"
        },
        "id": "ZHGnsN9C1x7X",
        "outputId": "8c3b695c-ada7-41d6-f6e9-d63bda44eb96"
      },
      "source": [
        "l2 = [0, 0, 0, 0]\n",
        "\n",
        "for l in range(4):\n",
        "    for k in range(2):\n",
        "        for i in range(256):\n",
        "            for j in range(256):\n",
        "                l2[l] += (110*out2[l, k, i, j] - labels[l][k + 1, i, j])**2\n",
        "                                                     \n",
        "l2 = [l/256**2 for l in l2]\n",
        "print(l2)"
      ],
      "execution_count": null,
      "outputs": [
        {
          "output_type": "stream",
          "text": [
            "[TensorBase(301.3324, device='cuda:0', grad_fn=<AliasBackward>), TensorBase(405.6307, device='cuda:0', grad_fn=<AliasBackward>), TensorBase(818.9330, device='cuda:0', grad_fn=<AliasBackward>), TensorBase(884.4907, device='cuda:0', grad_fn=<AliasBackward>)]\n"
          ],
          "name": "stdout"
        }
      ]
    }
  ]
}